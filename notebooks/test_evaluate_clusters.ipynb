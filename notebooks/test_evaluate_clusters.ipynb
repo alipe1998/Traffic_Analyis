{
 "cells": [
  {
   "cell_type": "markdown",
   "metadata": {},
   "source": [
    "# Evaluate Clusters\n",
    "\n",
    "This notebook create plots of the areas with the top 10 most dangerous clusters.\n",
    "\n",
    "Top Ten Locations with Highest Fatality Rates are:\n",
    "\n",
    "1. "
   ]
  },
  {
   "cell_type": "code",
   "execution_count": 1,
   "metadata": {},
   "outputs": [
    {
     "name": "stdout",
     "output_type": "stream",
     "text": [
      "ROOT_DIR: C:\\Users\\alipe\\OneDrive\\Desktop\\Rice_Classes\\COMP643\\Traffic_Analysis\n"
     ]
    }
   ],
   "source": [
    "from pathlib import Path\n",
    "import sys\n",
    "\n",
    "# get root directory of project\n",
    "ROOT_DIR = Path.cwd().parent\n",
    "DATA_DIR = ROOT_DIR / 'data'\n",
    "sys.path.append(str(ROOT_DIR))\n",
    "\n",
    "from src import evaluate_clusters"
   ]
  },
  {
   "cell_type": "code",
   "execution_count": 2,
   "metadata": {},
   "outputs": [],
   "source": [
    "# Usage example:\n",
    "s3_url = 's3://public-crash-data/clean-data/'\n",
    "crash_data_df = evaluate_clusters.read_csv_from_s3(s3_url)\n",
    "\n",
    "top_i_clusters = range(1, 11)\n",
    "for i in top_i_clusters:\n",
    "    map_plot = evaluate_clusters.plot_highest_fatality(crash_data_df, rank=i, distance=20)\n",
    "    map_plot.save(DATA_DIR / \"fatality_plots\" / f\"high_fatality_clusters_{i}.html\")  # Save the map as an HTML file"
   ]
  }
 ],
 "metadata": {
  "kernelspec": {
   "display_name": "test_env1",
   "language": "python",
   "name": "python3"
  },
  "language_info": {
   "codemirror_mode": {
    "name": "ipython",
    "version": 3
   },
   "file_extension": ".py",
   "mimetype": "text/x-python",
   "name": "python",
   "nbconvert_exporter": "python",
   "pygments_lexer": "ipython3",
   "version": "3.12.3"
  }
 },
 "nbformat": 4,
 "nbformat_minor": 2
}
